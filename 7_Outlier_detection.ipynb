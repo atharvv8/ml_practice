{
  "nbformat": 4,
  "nbformat_minor": 0,
  "metadata": {
    "colab": {
      "provenance": [],
      "authorship_tag": "ABX9TyP6ZvrdiYkGY+f6ydQ8oyxW"
    },
    "kernelspec": {
      "name": "python3",
      "display_name": "Python 3"
    },
    "language_info": {
      "name": "python"
    }
  },
  "cells": [
    {
      "cell_type": "code",
      "execution_count": 1,
      "metadata": {
        "id": "vnd_D-KIzTm5"
      },
      "outputs": [],
      "source": [
        "import numpy as np\n",
        "import matplotlib.pyplot as plt\n",
        "import seaborn as sns"
      ]
    },
    {
      "cell_type": "code",
      "source": [
        "dataset = [11,10,12,10,12,10,14,12,15,14,13,15,102,12,14,17,119,107,18,13,15,14,16,18,19,10,11,12,18,16,15,12,11,10,19,10,15]"
      ],
      "metadata": {
        "id": "7IR2n5fVzv7O"
      },
      "execution_count": 2,
      "outputs": []
    },
    {
      "cell_type": "code",
      "source": [
        "#By Z-Score (Using Standard Deviation)\n",
        "threshold = 3 #Values having standard deviation greater than 3\n",
        "mean = np.mean(dataset)\n",
        "std = np.std(dataset)\n",
        "outliers = []\n",
        "for i in dataset:\n",
        "  z_score = (i-mean)/std\n",
        "  if np.abs(z_score) > threshold:\n",
        "    outliers.append(i)\n",
        "print(outliers)"
      ],
      "metadata": {
        "colab": {
          "base_uri": "https://localhost:8080/"
        },
        "id": "jKWWcGjI0bmm",
        "outputId": "bb7d025c-5016-47da-cbdd-429f01b7a64b"
      },
      "execution_count": 3,
      "outputs": [
        {
          "output_type": "stream",
          "name": "stdout",
          "text": [
            "[102, 119, 107]\n"
          ]
        }
      ]
    },
    {
      "cell_type": "markdown",
      "source": [
        "**IQR**\n",
        "\n",
        "1. Sort the data\n",
        "2. Find q1\n",
        "3. Find q3\n",
        "4. IQR = Q1 - Q3\n",
        "5. Find Lower fence (q1-(1.5*iqr))\n",
        "6. Find Upper fence (q3 + (1.5*iqr))\n"
      ],
      "metadata": {
        "id": "0czvugNG2ebc"
      }
    },
    {
      "cell_type": "code",
      "source": [
        "#Using boxplot & IQR\n",
        "dataset = sorted(dataset)\n",
        "q1, q3 = np.percentile(dataset, [25,75])\n",
        "iqr = q3-q1\n",
        "lower_fence = q1 - (1.5 * iqr)\n",
        "upper_fence = q3 + (1.5 * iqr)\n",
        "print(lower_fence)\n",
        "print(upper_fence)\n",
        "outliers = []\n",
        "for i in dataset:\n",
        "  if i < lower_fence or i > upper_fence:\n",
        "    outliers.append(i)\n",
        "print(outliers)"
      ],
      "metadata": {
        "colab": {
          "base_uri": "https://localhost:8080/"
        },
        "id": "5S8_iTBo1tix",
        "outputId": "55efc9d7-1463-4c94-8aef-e77fb5fe876d"
      },
      "execution_count": 4,
      "outputs": [
        {
          "output_type": "stream",
          "name": "stdout",
          "text": [
            "6.0\n",
            "22.0\n",
            "[102, 107, 119]\n"
          ]
        }
      ]
    },
    {
      "cell_type": "code",
      "source": [
        "sns.boxplot(dataset)"
      ],
      "metadata": {
        "colab": {
          "base_uri": "https://localhost:8080/",
          "height": 429
        },
        "id": "CeDlLLQO2YcD",
        "outputId": "a75a24c6-991e-4ab2-ef32-be7f93c0f72e"
      },
      "execution_count": 5,
      "outputs": [
        {
          "output_type": "execute_result",
          "data": {
            "text/plain": [
              "<Axes: >"
            ]
          },
          "metadata": {},
          "execution_count": 5
        },
        {
          "output_type": "display_data",
          "data": {
            "text/plain": [
              "<Figure size 640x480 with 1 Axes>"
            ],
            "image/png": "[encoded data removed]"
          },
          "metadata": {}
        }
      ]
    }
  ]
}